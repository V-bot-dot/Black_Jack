{
 "cells": [
  {
   "cell_type": "code",
   "execution_count": 1,
   "metadata": {},
   "outputs": [],
   "source": [
    "import random\n",
    "suits = ('Diamond' , 'Hearts' , 'Spades' , 'Clubs')\n",
    "ranks=('Two' , 'Three' , 'Four' , 'Five' , 'Six' , 'Seven' , 'Eight' , 'Nine' , 'Ten' , 'Jack' , 'Queen' , 'King' , 'Ace')\n",
    "values={'Two' : 2 , 'Three' : 3 , 'Four' : 4 , 'Five' : 5 , 'Six' : 6 , 'Seven' : 7 , 'Eight' : 8 , 'Nine' : 9 , 'Ten' : 10 , 'Jack' : 10, 'Queen' : 10 , 'King' : 10 , 'Ace' : 11}\n",
    "playing = True"
   ]
  },
  {
   "cell_type": "code",
   "execution_count": 2,
   "metadata": {},
   "outputs": [],
   "source": [
    "class Card():\n",
    "    def __init__(self,suit,rank):\n",
    "        self.suit=suit\n",
    "        self.rank=rank\n",
    "    def __str__(self):\n",
    "        return self.rank+  ' of '  +self.suit"
   ]
  },
  {
   "cell_type": "code",
   "execution_count": 3,
   "metadata": {},
   "outputs": [],
   "source": [
    "class Deck():\n",
    "    def __init__(self):\n",
    "        self.deck=[]\n",
    "        for suit in suits:\n",
    "            for rank in ranks:\n",
    "                self.deck.append(Card(suit,rank))\n",
    "    def __str__(self):\n",
    "        deck_comp=''\n",
    "        for card in self.deck:\n",
    "            deck_comp+= '\\n'+ card.__str__()\n",
    "        return 'THE CARDS IN THE DECK ARE : '+ deck_comp\n",
    "    def shuffle(self):\n",
    "        random.shuffle(self.deck)\n",
    "    def deal(self):\n",
    "        single_card=self.deck.pop()\n",
    "        return single_card\n",
    "\n"
   ]
  },
  {
   "cell_type": "code",
   "execution_count": 4,
   "metadata": {},
   "outputs": [],
   "source": [
    "class Hand:\n",
    "    def __init__(self):\n",
    "        self.cards=[]\n",
    "        self.value=0\n",
    "        self.ace=0\n",
    "    def add_card(self,card):\n",
    "        self.cards.append(card)\n",
    "        self.value+=values[card.rank]\n",
    "        \n",
    "        if card.rank =='Ace':\n",
    "            self.ace += 1\n",
    "        \n",
    "        \n",
    "        \n",
    "    def adjust_for_ace(self):\n",
    "        while self.value > 21 and self.ace > 0:\n",
    "            self.value -= 10\n",
    "            self.ace -= 1\n",
    "            \n",
    "    "
   ]
  },
  {
   "cell_type": "code",
   "execution_count": 5,
   "metadata": {},
   "outputs": [],
   "source": [
    "class Chips:\n",
    "    def __init__(self,total=100):\n",
    "        self.total=total\n",
    "        self.bet=0\n",
    "    def win_bet(self):\n",
    "        self.total += self.bet\n",
    "    def lose_bet(self):\n",
    "        self.total -= self.bet"
   ]
  },
  {
   "cell_type": "code",
   "execution_count": 6,
   "metadata": {},
   "outputs": [],
   "source": [
    "def take_bet(chips):\n",
    "    \n",
    "    while True:\n",
    "        try:\n",
    "            chips.bet = int(input('How much bet do you want to place ? '))\n",
    "        except:\n",
    "            print('Please put in a integer!!')\n",
    "        else:\n",
    "            if chips.bet > chips.total:\n",
    "                print('Sorry you do not have enough money. You have a total sum of Rs.{} left'.format(chips.total))\n",
    "            else:\n",
    "                break"
   ]
  },
  {
   "cell_type": "code",
   "execution_count": 7,
   "metadata": {},
   "outputs": [],
   "source": [
    "def hit(deck,hand):\n",
    "    \n",
    "    hand.add_card(deck.deal())\n",
    "    hand.adjust_for_ace()"
   ]
  },
  {
   "cell_type": "code",
   "execution_count": 8,
   "metadata": {},
   "outputs": [],
   "source": [
    "def hit_or_stand(deck,hand):\n",
    "    global playing\n",
    "    \n",
    "    while True:\n",
    "        x=input('Please decide whether you want to hit or stay.Enter h or s ')\n",
    "        if x[0].lower()=='h':\n",
    "            hit(deck,hand)\n",
    "        elif x[0].lower()== 's':\n",
    "            print('Player Stands , Dealers Turn')\n",
    "            playing = 'False'\n",
    "        else:\n",
    "            print('Please choose h or s')\n",
    "            continue\n",
    "        break"
   ]
  },
  {
   "cell_type": "code",
   "execution_count": 9,
   "metadata": {},
   "outputs": [],
   "source": [
    "def show_some(player,dealer):\n",
    "    print(\"\\n Dealer's Cards: \")\n",
    "    print('FIRST CARD HIDDEN!')\n",
    "    print('',dealer.cards[1])\n",
    "    print(\"\\nPlayer's Hand:\", *player.cards, sep='\\n ')\n",
    "    \n",
    "    \n",
    "    \n",
    "    "
   ]
  },
  {
   "cell_type": "code",
   "execution_count": 10,
   "metadata": {},
   "outputs": [],
   "source": [
    "def show_all(player,dealer):\n",
    "    print(\"\\nDealer's Hand:\", *dealer.cards, sep='\\n ')\n",
    "    print(\"\\nDealer Value:=\",dealer.value)\n",
    "    print(\"\\nPlayer's Hand:\", *player.cards, sep='\\n ')\n",
    "    print(\"\\nPlayer Value:=\",player.value)\n"
   ]
  },
  {
   "cell_type": "markdown",
   "metadata": {},
   "source": [
    "# There is another way of displaying cards instead of using 'for' loop in the above given Code¶"
   ]
  },
  {
   "cell_type": "code",
   "execution_count": 11,
   "metadata": {},
   "outputs": [],
   "source": [
    "item=[1,2,3]"
   ]
  },
  {
   "cell_type": "code",
   "execution_count": 12,
   "metadata": {},
   "outputs": [
    {
     "name": "stdout",
     "output_type": "stream",
     "text": [
      "Items are: \n",
      "1\n",
      "2\n",
      "3\n"
     ]
    }
   ],
   "source": [
    "print('Items are: ',*item,sep='\\n')"
   ]
  },
  {
   "cell_type": "code",
   "execution_count": null,
   "metadata": {},
   "outputs": [],
   "source": []
  },
  {
   "cell_type": "code",
   "execution_count": 13,
   "metadata": {},
   "outputs": [],
   "source": [
    "def player_busts(player,dealer,chips):\n",
    "    print(\"Player busts!\")\n",
    "    chips.lose_bet()\n",
    "\n",
    "def player_wins(player,dealer,chips):\n",
    "    print(\"Player wins!\")\n",
    "    chips.win_bet()\n",
    "\n",
    "def dealer_busts(player,dealer,chips):\n",
    "    print(\"Dealer busts!\")\n",
    "    chips.win_bet()\n",
    "    \n",
    "def dealer_wins(player,dealer,chips):\n",
    "    print(\"Dealer wins!\")\n",
    "    chips.lose_bet()\n",
    "    \n",
    "def push(player,dealer):\n",
    "    print(\"Dealer and Player tie! It's a push.\")"
   ]
  },
  {
   "cell_type": "code",
   "execution_count": null,
   "metadata": {},
   "outputs": [
    {
     "name": "stdout",
     "output_type": "stream",
     "text": [
      "WELCOME TO BLACK JACK\n"
     ]
    }
   ],
   "source": [
    "while True:\n",
    "    #Print an opening statement\n",
    "    print('WELCOME TO BLACK JACK')\n",
    "    \n",
    "    #Create & shuffle the deck , deal two cards to each player\n",
    "    deck=Deck()\n",
    "    deck.shuffle()\n",
    "    \n",
    "    player_hand=Hand()\n",
    "    player_hand.add_card(deck.deal())\n",
    "    player_hand.add_card(deck.deal())\n",
    "    \n",
    "    dealer_hand=Hand()\n",
    "    dealer_hand.add_card(deck.deal())\n",
    "    dealer_hand.add_card(deck.deal())\n",
    "    \n",
    "    \n",
    "    #Set - up the players chips\n",
    "    player_chips=Chips()\n",
    "        \n",
    "    #Prompt the player for their bet\n",
    "    take_bet(player_chips)\n",
    "    \n",
    "    \n",
    "    #Show cards (but keep one dealer card hidden)\n",
    "    show_some(player_hand,dealer_hand)\n",
    "    \n",
    "    \n",
    "    while playing:\n",
    "        \n",
    "           \n",
    "        #Prompt for Player to Hit or Stand\n",
    "        hit_or_stand(deck,player_hand)\n",
    "        \n",
    "        \n",
    "        #Show cards (but keep one dealer card hidden)\n",
    "        show_some(player_hand,dealer_hand)\n",
    "        \n",
    "\n",
    "        #If player hand exceeds 21 , run player_busts and break out of the loop\n",
    "        if player_hand.value>21:\n",
    "            player_busts(player_hand,dealer_hand,player_chips)    \n",
    "            break\n",
    "     #If player hasn't busted ,play dealers hand until Dealer reaches 17\n",
    "    if player_hand.value <= 21:\n",
    "        while dealer_hand.value < player_hand.value:\n",
    "            hit(deck,dealer_hand)\n",
    "    \n",
    "        #Show all cards\n",
    "        show_all(player_hand,dealer_hand)\n",
    "        \n",
    "        \n",
    "        #Run different winning scenarios\n",
    "        if dealer_hand.value > 21:\n",
    "            dealer_busts(player_hand,dealer_hand,player_chips)\n",
    "        elif dealer_hand.value > player_hand.value:\n",
    "            dealer_wins(player_hand,dealer_hand,player_chips)\n",
    "        elif dealer_hand.value < player_hand.value:\n",
    "            dealer_busts(player_hand,dealer_hand,player_chips)\n",
    "        else:\n",
    "            push(player_hand,dealer_hand)            \n",
    "        \n",
    "   \n",
    "    \n",
    "                \n",
    "        \n",
    "    #Inform Player of their chips total\n",
    "    print('Your chips totals to {}'.format(player_chips.total))\n",
    "    \n",
    "    #Ask to play again\n",
    "    play_game=input('Do you want to play the game again ?: y/n ')\n",
    "    \n",
    "    if play_game[0].lower()=='y':\n",
    "        playing = True\n",
    "        continue\n",
    "    else:\n",
    "        print('THANK YOU FOR PLAYING!')\n",
    "        break\n",
    "\n",
    "    "
   ]
  },
  {
   "cell_type": "code",
   "execution_count": null,
   "metadata": {},
   "outputs": [],
   "source": []
  }
 ],
 "metadata": {
  "kernelspec": {
   "display_name": "Python 3",
   "language": "python",
   "name": "python3"
  },
  "language_info": {
   "codemirror_mode": {
    "name": "ipython",
    "version": 3
   },
   "file_extension": ".py",
   "mimetype": "text/x-python",
   "name": "python",
   "nbconvert_exporter": "python",
   "pygments_lexer": "ipython3",
   "version": "3.8.5"
  }
 },
 "nbformat": 4,
 "nbformat_minor": 4
}
